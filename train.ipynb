{
 "cells": [
  {
   "cell_type": "code",
   "execution_count": 1,
   "metadata": {},
   "outputs": [],
   "source": [
    "import sys\n",
    "import cv2\n",
    "import numpy as np\n",
    "import tensorflow as tf\n",
    "from tensorflow.examples.tutorials.mnist import input_data\n",
    "from detector import Detector"
   ]
  },
  {
   "cell_type": "code",
   "execution_count": 2,
   "metadata": {},
   "outputs": [],
   "source": [
    "IMAGE_SIZE = 28\n",
    "NUM_CLASSES = 10\n",
    "NUMBER_OF_COLOR = 1\n",
    "TRAIN_DIR = '/tmp/data'\n",
    "LEANING_RATE = 1e-4\n",
    "MAX_STEPS = 50\n",
    "BATCH_SIZE = 100\n",
    "# flags = tf.app.flags\n",
    "# FLAGS = flags.FLAGS\n",
    "# flags.DEFINE_string('train', 'train.txt', 'File name of train data')\n",
    "# flags.DEFINE_string('test', 'test.txt', 'File name of train data')\n",
    "# flags.DEFINE_string('train_dir', '/tmp/data', 'Directory to put the training data.')\n",
    "# flags.DEFINE_float('learning_rate', 1e-4, 'Initial learning rate.')\n",
    "# flags.DEFINE_integer('max_steps', 200, 'Number of steps to run trainer.')\n",
    "#flags.DEFINE_integer('batch_size', 10, 'Batch size Must divide evenly into the dataset sizes.')"
   ]
  },
  {
   "cell_type": "code",
   "execution_count": 3,
   "metadata": {},
   "outputs": [],
   "source": [
    "def _load_files(filename):\n",
    "    # ファイルを開く\n",
    "    f = open(filename, 'r')\n",
    "    # データを入れる配列\n",
    "    images = []\n",
    "    labels = []\n",
    "    for line in f:\n",
    "        # 改行を除いてスペース区切りにする\n",
    "        line = line.rstrip()\n",
    "        l = line.split()\n",
    "        # データを読み込んで28x28に縮小\n",
    "        img = cv2.imread(l[0])\n",
    "        img = cv2.resize(img, (IMAGE_SIZE, IMAGE_SIZE))\n",
    "        # 一列にした後、0-1のfloat値にする\n",
    "        images.append(img.flatten().astype(np.float32)/255.0)\n",
    "        # ラベルを1-of-k方式で用意する\n",
    "        tmp = np.zeros(NUM_CLASSES)\n",
    "        tmp[int(l[1])] = 1\n",
    "        labels.append(tmp)\n",
    "    # numpy形式に変換\n",
    "    images = np.asarray(images)\n",
    "    labels = np.asarray(labels)\n",
    "    f.close()\n",
    "    return images, labels"
   ]
  },
  {
   "cell_type": "code",
   "execution_count": 4,
   "metadata": {},
   "outputs": [
    {
     "name": "stdout",
     "output_type": "stream",
     "text": [
      "WARNING:tensorflow:From <ipython-input-4-491d0bb98877>:1: read_data_sets (from tensorflow.contrib.learn.python.learn.datasets.mnist) is deprecated and will be removed in a future version.\n",
      "Instructions for updating:\n",
      "Please use alternatives such as official/mnist/dataset.py from tensorflow/models.\n",
      "WARNING:tensorflow:From /home/takahito.ishida/.pyenv/versions/3.6.5/lib/python3.6/site-packages/tensorflow/contrib/learn/python/learn/datasets/mnist.py:260: maybe_download (from tensorflow.contrib.learn.python.learn.datasets.base) is deprecated and will be removed in a future version.\n",
      "Instructions for updating:\n",
      "Please write your own downloading logic.\n",
      "WARNING:tensorflow:From /home/takahito.ishida/.pyenv/versions/3.6.5/lib/python3.6/site-packages/tensorflow/contrib/learn/python/learn/datasets/mnist.py:262: extract_images (from tensorflow.contrib.learn.python.learn.datasets.mnist) is deprecated and will be removed in a future version.\n",
      "Instructions for updating:\n",
      "Please use tf.data to implement this functionality.\n",
      "Extracting MNIST_data/train-images-idx3-ubyte.gz\n",
      "WARNING:tensorflow:From /home/takahito.ishida/.pyenv/versions/3.6.5/lib/python3.6/site-packages/tensorflow/contrib/learn/python/learn/datasets/mnist.py:267: extract_labels (from tensorflow.contrib.learn.python.learn.datasets.mnist) is deprecated and will be removed in a future version.\n",
      "Instructions for updating:\n",
      "Please use tf.data to implement this functionality.\n",
      "Extracting MNIST_data/train-labels-idx1-ubyte.gz\n",
      "WARNING:tensorflow:From /home/takahito.ishida/.pyenv/versions/3.6.5/lib/python3.6/site-packages/tensorflow/contrib/learn/python/learn/datasets/mnist.py:110: dense_to_one_hot (from tensorflow.contrib.learn.python.learn.datasets.mnist) is deprecated and will be removed in a future version.\n",
      "Instructions for updating:\n",
      "Please use tf.one_hot on tensors.\n",
      "Extracting MNIST_data/t10k-images-idx3-ubyte.gz\n",
      "Extracting MNIST_data/t10k-labels-idx1-ubyte.gz\n",
      "WARNING:tensorflow:From /home/takahito.ishida/.pyenv/versions/3.6.5/lib/python3.6/site-packages/tensorflow/contrib/learn/python/learn/datasets/mnist.py:290: DataSet.__init__ (from tensorflow.contrib.learn.python.learn.datasets.mnist) is deprecated and will be removed in a future version.\n",
      "Instructions for updating:\n",
      "Please use alternatives such as official/mnist/dataset.py from tensorflow/models.\n"
     ]
    }
   ],
   "source": [
    "mnist = input_data.read_data_sets(\"MNIST_data/\", one_hot=True)\n",
    "\n",
    "# 学習用画像をTensorFlowで読み込めるようTensor形式(行列)に変換\n",
    "train_image = mnist.train.images\n",
    "train_labels = np.asarray(mnist.train.labels, dtype=np.int32)\n",
    "\n",
    "# 同じく検証用画像をTensorFlowで読み込めるようTensor形式(行列)に変換\n",
    "test_image = mnist.test.images\n",
    "test_labels = np.asarray(mnist.test.labels, dtype=np.int32)"
   ]
  },
  {
   "cell_type": "code",
   "execution_count": 5,
   "metadata": {},
   "outputs": [
    {
     "name": "stdout",
     "output_type": "stream",
     "text": [
      "WARNING:tensorflow:Passing a `GraphDef` to the SummaryWriter is deprecated. Pass a `Graph` object instead, such as `sess.graph`.\n",
      "step 0, training accuracy 0.9494909048080444\n",
      "step 1, training accuracy 0.9685999751091003\n",
      "step 2, training accuracy 0.9768000245094299\n",
      "step 3, training accuracy 0.9824727177619934\n",
      "step 4, training accuracy 0.9854000210762024\n",
      "step 5, training accuracy 0.9870727062225342\n",
      "step 6, training accuracy 0.9900727272033691\n",
      "step 7, training accuracy 0.9916545748710632\n",
      "step 8, training accuracy 0.9927272796630859\n",
      "step 9, training accuracy 0.9937818050384521\n",
      "step 10, training accuracy 0.9950000047683716\n",
      "step 11, training accuracy 0.9957090616226196\n",
      "step 12, training accuracy 0.9958363771438599\n",
      "step 13, training accuracy 0.9964181780815125\n",
      "step 14, training accuracy 0.9972727298736572\n",
      "step 15, training accuracy 0.9971636533737183\n",
      "step 16, training accuracy 0.9974908828735352\n",
      "step 17, training accuracy 0.998127281665802\n",
      "step 18, training accuracy 0.9985636472702026\n",
      "step 19, training accuracy 0.9987090826034546\n",
      "step 20, training accuracy 0.9987454414367676\n",
      "step 21, training accuracy 0.9992727041244507\n",
      "step 22, training accuracy 0.9989272952079773\n",
      "step 23, training accuracy 0.9989818334579468\n",
      "step 24, training accuracy 0.9990000128746033\n",
      "test accuracy 0.9904000163078308\n"
     ]
    }
   ],
   "source": [
    "with tf.Graph().as_default():\n",
    "    detector = Detector(NUM_CLASSES, IMAGE_SIZE, NUMBER_OF_COLOR)\n",
    "    detector.train(\n",
    "        train_image, train_labels, test_image, test_labels,\n",
    "        TRAIN_DIR, LEANING_RATE, MAX_STEPS, BATCH_SIZE)"
   ]
  },
  {
   "cell_type": "code",
   "execution_count": null,
   "metadata": {},
   "outputs": [],
   "source": []
  },
  {
   "cell_type": "code",
   "execution_count": null,
   "metadata": {},
   "outputs": [],
   "source": []
  }
 ],
 "metadata": {
  "kernelspec": {
   "display_name": "Python 3",
   "language": "python",
   "name": "python3"
  },
  "language_info": {
   "codemirror_mode": {
    "name": "ipython",
    "version": 3
   },
   "file_extension": ".py",
   "mimetype": "text/x-python",
   "name": "python",
   "nbconvert_exporter": "python",
   "pygments_lexer": "ipython3",
   "version": "3.6.5"
  }
 },
 "nbformat": 4,
 "nbformat_minor": 2
}
